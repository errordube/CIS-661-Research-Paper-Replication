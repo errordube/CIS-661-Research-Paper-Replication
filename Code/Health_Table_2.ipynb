{
  "nbformat": 4,
  "nbformat_minor": 0,
  "metadata": {
    "colab": {
      "provenance": []
    },
    "kernelspec": {
      "name": "python3",
      "display_name": "Python 3"
    },
    "language_info": {
      "name": "python"
    }
  },
  "cells": [
    {
      "cell_type": "code",
      "execution_count": null,
      "metadata": {
        "colab": {
          "base_uri": "https://localhost:8080/",
          "height": 590
        },
        "id": "K3mQNRqwGOPU",
        "outputId": "0bbf7a12-79f1-4b9c-c465-01bcf2ac50c6"
      },
      "outputs": [
        {
          "output_type": "stream",
          "name": "stdout",
          "text": [
            "Loaded Data:\n",
            "    Gender Age Group     igf1   igf2bp3   igfbp2a     ache  ppargc1b     lmo4a  \\\n",
            "0    Male     Young  0.00143  0.000204  0.005805  0.00579  0.003035  0.001340   \n",
            "1    Male     Young  0.00107  0.000200  0.003330  0.00652  0.002470  0.001004   \n",
            "2    Male       Old  0.00071  0.000123  0.002825  0.00882  0.002110  0.000970   \n",
            "3    Male       Old  0.00030  0.000071  0.003815  0.00607  0.004000  0.001415   \n",
            "4  Female     Young  0.00058  0.000337  0.002715  0.00722  0.005285  0.001515   \n",
            "5  Female     Young  0.00050  0.000328  0.003185  0.00465  0.001910  0.001550   \n",
            "6  Female       Old  0.00018  0.000039  0.002940  0.00549  0.001890  0.000991   \n",
            "7  Female       Old  0.00054  0.000186  0.003145  0.00623  0.003935  0.001175   \n",
            "\n",
            "     pvalb8    smurf2  \n",
            "0  0.000539  0.000051  \n",
            "1  0.000449  0.000065  \n",
            "2  0.000179  0.001206  \n",
            "3  0.000026  0.002306  \n",
            "4  0.000087  0.000075  \n",
            "5  0.000075  0.000053  \n",
            "6  0.000045  0.000047  \n",
            "7  0.000063  0.001320  \n",
            "\n",
            "Replicated Table 2 - Gene Expression Levels by Gender and Age Group\n",
            "   Gender Age Group      igf1   igf2bp3   igfbp2a      ache  ppargc1b  \\\n",
            "0  Female       Old  0.000360  0.000112  0.003043  0.005860  0.002913   \n",
            "1  Female     Young  0.000540  0.000333  0.002950  0.005935  0.003598   \n",
            "2    Male       Old  0.000505  0.000097  0.003320  0.007445  0.003055   \n",
            "3    Male     Young  0.001250  0.000202  0.004568  0.006155  0.002752   \n",
            "\n",
            "      lmo4a    pvalb8    smurf2  \n",
            "0  0.001083  0.000054  0.000683  \n",
            "1  0.001533  0.000081  0.000064  \n",
            "2  0.001192  0.000102  0.001756  \n",
            "3  0.001172  0.000494  0.000058  \n"
          ]
        },
        {
          "output_type": "display_data",
          "data": {
            "text/plain": [
              "<IPython.core.display.Javascript object>"
            ],
            "application/javascript": [
              "\n",
              "    async function download(id, filename, size) {\n",
              "      if (!google.colab.kernel.accessAllowed) {\n",
              "        return;\n",
              "      }\n",
              "      const div = document.createElement('div');\n",
              "      const label = document.createElement('label');\n",
              "      label.textContent = `Downloading \"${filename}\": `;\n",
              "      div.appendChild(label);\n",
              "      const progress = document.createElement('progress');\n",
              "      progress.max = size;\n",
              "      div.appendChild(progress);\n",
              "      document.body.appendChild(div);\n",
              "\n",
              "      const buffers = [];\n",
              "      let downloaded = 0;\n",
              "\n",
              "      const channel = await google.colab.kernel.comms.open(id);\n",
              "      // Send a message to notify the kernel that we're ready.\n",
              "      channel.send({})\n",
              "\n",
              "      for await (const message of channel.messages) {\n",
              "        // Send a message to notify the kernel that we're ready.\n",
              "        channel.send({})\n",
              "        if (message.buffers) {\n",
              "          for (const buffer of message.buffers) {\n",
              "            buffers.push(buffer);\n",
              "            downloaded += buffer.byteLength;\n",
              "            progress.value = downloaded;\n",
              "          }\n",
              "        }\n",
              "      }\n",
              "      const blob = new Blob(buffers, {type: 'application/binary'});\n",
              "      const a = document.createElement('a');\n",
              "      a.href = window.URL.createObjectURL(blob);\n",
              "      a.download = filename;\n",
              "      div.appendChild(a);\n",
              "      a.click();\n",
              "      div.remove();\n",
              "    }\n",
              "  "
            ]
          },
          "metadata": {}
        },
        {
          "output_type": "display_data",
          "data": {
            "text/plain": [
              "<IPython.core.display.Javascript object>"
            ],
            "application/javascript": [
              "download(\"download_858e6501-080f-4cae-a653-b9bdde9cd996\", \"Replicated_Table_2.csv\", 468)"
            ]
          },
          "metadata": {}
        }
      ],
      "source": [
        "import pandas as pd\n",
        "file_path = '/content/Table_2_gene_expression_data.csv'\n",
        "data = pd.read_csv(file_path)\n",
        "print(\"Loaded Data:\\n\", data)\n",
        "replicated_table_2 = data.groupby(['Gender', 'Age Group']).mean().reset_index()\n",
        "print(\"\\nReplicated Table 2 - Gene Expression Levels by Gender and Age Group\")\n",
        "print(replicated_table_2)\n",
        "replicated_table_2.to_csv('Replicated_Table_2.csv', index=False)\n",
        "from google.colab import files\n",
        "files.download('Replicated_Table_2.csv')\n"
      ]
    },
    {
      "cell_type": "code",
      "source": [
        "import pandas as pd\n",
        "file_path = '/content/Table_2_gene_expression_data.csv'\n",
        "df = pd.read_csv(file_path)\n",
        "gene_details = {\n",
        "    \"Gene symbol (Zebrafish)\": [\"igf2bp3\", \"ache\", \"igf1\", \"pvalb8\", \"ppargc1b\", \"smurf2\", \"lmo4a\", \"igfbp2a\"],\n",
        "    \"Gene name\": [\n",
        "        \"Insulin-like growth factor 2 mRNA binding protein 3\",\n",
        "        \"Acetylcholinesterase\",\n",
        "        \"Insulin-like growth factor 1\",\n",
        "        \"parvalbumin 8\",\n",
        "        \"peroxisome proliferator-activated receptor gamma, coactivator 1 beta\",\n",
        "        \"SMAD specific E3 ubiquitin protein ligase 2\",\n",
        "        \"LIM domain only 4a\",\n",
        "        \"insulin-like growth factor binding protein 2a\"\n",
        "    ],\n",
        "    \"Human ortholog\": [\"IGF2BP3\", \"ACHE\", \"IGF1\", \"OCM2\", \"PPARGC1B\", \"SMURF2\", \"LMO4\", \"IGFBP2\"],\n",
        "    \"Mouse ortholog\": [\"Igf2bp3\", \"Ache\", \"Igf1\", \"Ocm\", \"Ppargc1b\", \"Smurf2\", \"Lmo4\", \"Igfbp2\"]\n",
        "}\n",
        "gene_df = pd.DataFrame(gene_details)\n",
        "print(\"Table 2 - Genes selected for qPCR validation\")\n",
        "print(gene_df)\n"
      ],
      "metadata": {
        "colab": {
          "base_uri": "https://localhost:8080/"
        },
        "id": "2GdkVbeiGbNf",
        "outputId": "2e6b7f36-f5c6-49e8-f5d8-1da27376e332"
      },
      "execution_count": null,
      "outputs": [
        {
          "output_type": "stream",
          "name": "stdout",
          "text": [
            "Table 2 - Genes selected for qPCR validation\n",
            "  Gene symbol (Zebrafish)                                          Gene name  \\\n",
            "0                 igf2bp3  Insulin-like growth factor 2 mRNA binding prot...   \n",
            "1                    ache                               Acetylcholinesterase   \n",
            "2                    igf1                       Insulin-like growth factor 1   \n",
            "3                  pvalb8                                      parvalbumin 8   \n",
            "4                ppargc1b  peroxisome proliferator-activated receptor gam...   \n",
            "5                  smurf2        SMAD specific E3 ubiquitin protein ligase 2   \n",
            "6                   lmo4a                                 LIM domain only 4a   \n",
            "7                 igfbp2a      insulin-like growth factor binding protein 2a   \n",
            "\n",
            "  Human ortholog Mouse ortholog  \n",
            "0        IGF2BP3        Igf2bp3  \n",
            "1           ACHE           Ache  \n",
            "2           IGF1           Igf1  \n",
            "3           OCM2            Ocm  \n",
            "4       PPARGC1B       Ppargc1b  \n",
            "5         SMURF2         Smurf2  \n",
            "6           LMO4           Lmo4  \n",
            "7         IGFBP2         Igfbp2  \n"
          ]
        }
      ]
    },
    {
      "cell_type": "code",
      "source": [],
      "metadata": {
        "id": "t0RRWFEpHP25"
      },
      "execution_count": null,
      "outputs": []
    }
  ]
}